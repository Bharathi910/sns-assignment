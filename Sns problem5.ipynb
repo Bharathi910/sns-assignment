{
 "cells": [
  {
   "cell_type": "code",
   "execution_count": 1,
   "metadata": {},
   "outputs": [],
   "source": [
    "import pandas as pd\n",
    "from googleapiclient.discovery import build"
   ]
  },
  {
   "cell_type": "code",
   "execution_count": 2,
   "metadata": {},
   "outputs": [],
   "source": [
    "\n",
    "# Function to connect to YouTube API\n",
    "def youtube_api():\n",
    "    api_key = 'your api key'\n",
    "    youtube = build('youtube', 'v3', developerKey=api_key)\n",
    "    return youtube\n",
    "\n",
    "youtube = youtube_api()"
   ]
  },
  {
   "cell_type": "code",
   "execution_count": 3,
   "metadata": {},
   "outputs": [],
   "source": [
    "# Function to get channel information\n",
    "def get_channel_info(channel_id):\n",
    "    request = youtube.channels().list(\n",
    "        part=\"snippet,contentDetails,statistics\",\n",
    "        id=channel_id\n",
    "    )\n",
    "    response = request.execute()\n",
    "    data = []\n",
    "    for i in response['items']:\n",
    "        data.append({\n",
    "            'Channel_Id': i[\"id\"],\n",
    "            'Channel_Name': i[\"snippet\"][\"title\"],\n",
    "            'Subscribers': i['statistics']['subscriberCount'],\n",
    "            'Views': i[\"statistics\"][\"viewCount\"],\n",
    "            'Total_Videos': i[\"statistics\"][\"videoCount\"],\n",
    "            'Channel_Description': i[\"snippet\"][\"description\"],\n",
    "            'Playlist_Id': i[\"contentDetails\"][\"relatedPlaylists\"][\"uploads\"]\n",
    "        })\n",
    "    return pd.DataFrame(data)"
   ]
  },
  {
   "cell_type": "code",
   "execution_count": 4,
   "metadata": {},
   "outputs": [
    {
     "data": {
      "text/html": [
       "<div>\n",
       "<style scoped>\n",
       "    .dataframe tbody tr th:only-of-type {\n",
       "        vertical-align: middle;\n",
       "    }\n",
       "\n",
       "    .dataframe tbody tr th {\n",
       "        vertical-align: top;\n",
       "    }\n",
       "\n",
       "    .dataframe thead th {\n",
       "        text-align: right;\n",
       "    }\n",
       "</style>\n",
       "<table border=\"1\" class=\"dataframe\">\n",
       "  <thead>\n",
       "    <tr style=\"text-align: right;\">\n",
       "      <th></th>\n",
       "      <th>Channel_Id</th>\n",
       "      <th>Channel_Name</th>\n",
       "      <th>Subscribers</th>\n",
       "      <th>Views</th>\n",
       "      <th>Total_Videos</th>\n",
       "      <th>Channel_Description</th>\n",
       "      <th>Playlist_Id</th>\n",
       "    </tr>\n",
       "  </thead>\n",
       "  <tbody>\n",
       "    <tr>\n",
       "      <th>0</th>\n",
       "      <td>UCduIoIMfD8tT3KoU0-zBRgQ</td>\n",
       "      <td>GUVI</td>\n",
       "      <td>222000</td>\n",
       "      <td>4088376</td>\n",
       "      <td>1482</td>\n",
       "      <td>GUVI is an IIT-M &amp; IIM-A incubated edu-tech co...</td>\n",
       "      <td>UUduIoIMfD8tT3KoU0-zBRgQ</td>\n",
       "    </tr>\n",
       "  </tbody>\n",
       "</table>\n",
       "</div>"
      ],
      "text/plain": [
       "                 Channel_Id Channel_Name Subscribers    Views Total_Videos  \\\n",
       "0  UCduIoIMfD8tT3KoU0-zBRgQ         GUVI      222000  4088376         1482   \n",
       "\n",
       "                                 Channel_Description               Playlist_Id  \n",
       "0  GUVI is an IIT-M & IIM-A incubated edu-tech co...  UUduIoIMfD8tT3KoU0-zBRgQ  "
      ]
     },
     "execution_count": 4,
     "metadata": {},
     "output_type": "execute_result"
    }
   ],
   "source": [
    "get_channel_info('UCduIoIMfD8tT3KoU0-zBRgQ') #provide any youtube channel ID"
   ]
  }
 ],
 "metadata": {
  "kernelspec": {
   "display_name": "Python 3",
   "language": "python",
   "name": "python3"
  },
  "language_info": {
   "codemirror_mode": {
    "name": "ipython",
    "version": 3
   },
   "file_extension": ".py",
   "mimetype": "text/x-python",
   "name": "python",
   "nbconvert_exporter": "python",
   "pygments_lexer": "ipython3",
   "version": "3.12.5"
  }
 },
 "nbformat": 4,
 "nbformat_minor": 2
}
